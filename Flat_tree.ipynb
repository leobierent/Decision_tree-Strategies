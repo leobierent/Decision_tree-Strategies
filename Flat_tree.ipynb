{
 "cells": [
  {
   "cell_type": "markdown",
   "metadata": {},
   "source": [
    "# Exercice entretien \n",
    "#### Leo Bierent (05/05/2020)"
   ]
  },
  {
   "cell_type": "markdown",
   "metadata": {},
   "source": [
    "### Instructions :\n",
    "You need to flatten the attached tree (tree_to_convert.txt) into a set of strategies. \n",
    "\n",
    "A strategy is a combination of \n",
    "\n",
    "● A strategy definition: a sequence of conditions of the form feature = value or feature\n",
    "!= value, separated with “and” operators only.\n",
    "\n",
    "● A leaf value\n",
    "The syntax is given by [strategy definition]:[leaf_value].\n",
    "\n",
    "For instance, leaf 4 translates into the following strategy : device_type!=pc & browser!=7 & browser=8 : 0.000881108\n"
   ]
  },
  {
   "cell_type": "code",
   "execution_count": 1,
   "metadata": {
    "collapsed": true
   },
   "outputs": [],
   "source": [
    "import pandas as pd\n",
    "import numpy as np"
   ]
  },
  {
   "cell_type": "markdown",
   "metadata": {},
   "source": [
    "On va definir une classe pour chaque noeud. Ainsi, on pourra acceder à toutes les informations concernant le noeud et ses dépendances très simplement. \n",
    "\n",
    "Les noeuds sont de la forme : \n",
    "\n",
    "● 19:leaf=0.000594593 (Noeud final)\n",
    "\n",
    "● 11:[size=300x600] yes=18,no=17 (Noeud intermediaire)"
   ]
  },
  {
   "cell_type": "code",
   "execution_count": 2,
   "metadata": {
    "collapsed": true
   },
   "outputs": [],
   "source": [
    "class node:\n",
    "    \n",
    "    def __init__(self, str_row):\n",
    "        \n",
    "        # Le numero du noeud est juste avant le premier ':'\n",
    "        self.num = int(str_row.split()[0].split(':')[0])\n",
    "        # Je vais mettre ces valeurs à nan pour aviter les erreurs de comparaison par la suite. (Peut etre remplacé par des try / Except)\n",
    "        self.valeur = np.nan\n",
    "        self.condition = np.nan\n",
    "        self.right_child = np.nan\n",
    "        self.left_child = np.nan\n",
    "        \n",
    "        # Il faut savoir si cette feuille correspond à un bout de branche.\n",
    "        # J'ai choisi de retenir cet indicateur ('[') de feuille finale car detecter la présence de 'leaf' n'aurait pas été robuste \n",
    "        # à un nom de variable contenant 'leaf' \n",
    "        \n",
    "        if  '[' not in str_row :\n",
    "            # On prend la partie après '='\n",
    "            self.valeur = float(str_row.split('=')[1])\n",
    "            \n",
    "        else :\n",
    "            # Permet d'isoler la partie entre []\n",
    "            self.condition = str_row[str_row.find(\"[\")+1:str_row.find(\"]\")]\n",
    "            \n",
    "            #Pour les enfants, on prend la partie de droite (yes, no)\n",
    "            childs = str_row.split()[1]\n",
    "            self.right_child = int(childs.split(',')[0].split('=')[1])\n",
    "            self.left_child = int(childs.split(',')[1].split('=')[1])\n",
    "            \n",
    "    def __str__(self):\n",
    "        return str(self.num)\n",
    "    \n",
    "    # Cette fonction permet de retrouver le parent du noeud et de savoir si la condition du parent est vraie ou fausse. \n",
    "    \n",
    "    def get_parent(self,arbre):\n",
    "        self.parent = np.nan\n",
    "        self.parent_bool = np.nan\n",
    "        \n",
    "        for noeud in arbre :\n",
    "            if noeud.right_child == self.num:\n",
    "                self.parent = noeud\n",
    "                self.parent_bool = True \n",
    "                \n",
    "            if noeud.left_child == self.num:\n",
    "                self.parent = noeud\n",
    "                self.parent_bool = False\n",
    "            \n"
   ]
  },
  {
   "cell_type": "markdown",
   "metadata": {},
   "source": [
    "On va egalement créer une classe simple pour notre arbre, qui initialise bien les parents des noeuds"
   ]
  },
  {
   "cell_type": "code",
   "execution_count": 3,
   "metadata": {},
   "outputs": [],
   "source": [
    "class tree:\n",
    "    def __init__(self,node_list):\n",
    "        self.nodes = node_list\n",
    "        \n",
    "        for node in self.nodes:\n",
    "            node.get_parent(self.nodes)\n",
    "\n"
   ]
  },
  {
   "cell_type": "markdown",
   "metadata": {},
   "source": [
    "Il faut parfois prendre la négation de la condition du parent, qui peut etre de la forme A U B \n",
    "On utilise alors la loi de Morgan pour prendre la negation. \n",
    "Pour l'instant le programme ne gère que des égalités et des unions, on peut facilement augmenter ses capacités en ajoutant l'operateur souhaité et na negation dans le dictionnaire operation_inv"
   ]
  },
  {
   "cell_type": "code",
   "execution_count": 4,
   "metadata": {},
   "outputs": [],
   "source": [
    "operations_inv = {\n",
    "    '=' : ' != ',\n",
    "    '||or||' : ' & ',\n",
    "    ## Ajouter des operateurs si besoin ! \n",
    "    }\n",
    "\n",
    "# Fonction qui remplace tous les operateurs par leur negation si la condition parente est fausse !\n",
    "\n",
    "def morgan(condition,parent_bool):\n",
    "\n",
    "    if not parent_bool :\n",
    "        for op in operations_inv:\n",
    "\n",
    "            condition = condition.replace(op,operations_inv[op])\n",
    "            \n",
    "    return condition\n",
    "\n",
    "    \n"
   ]
  },
  {
   "cell_type": "markdown",
   "metadata": {},
   "source": [
    "On va maintenant pouvoir créer une fonction qui remonte l'arbre depuis les branches finales jusqu'au noeud zero (Supposons que ne noeud zero soit toujours noté zero, sinon, on peut changer la condition d'arret)\n"
   ]
  },
  {
   "cell_type": "code",
   "execution_count": 5,
   "metadata": {
    "collapsed": true
   },
   "outputs": [],
   "source": [
    "#Fonction recursive, qui concatenate les conditions l'une après l'autre, en ajoutant & entre elles \n",
    "# et en prenant en compte les negations. \n",
    "#Possible de la faire en iteratif pour de plus grands arbres \n",
    "\n",
    "def flat_(noeud, flat = ''):\n",
    "    # On ajoute à flat la condition du parent corrigée si besoin\n",
    "    flat = flat+' & ' + morgan(noeud.parent.condition,noeud.parent_bool)\n",
    "    #condition d'arret\n",
    "    if noeud.parent.num == 0 :\n",
    "        return flat[len(' & '):]\n",
    "    \n",
    "    return flat_(noeud.parent,flat)\n"
   ]
  },
  {
   "cell_type": "markdown",
   "metadata": {},
   "source": [
    "On obtient donc une liste de toutes les conditions pour arriver jusqu'au noeud final. \n",
    "Dans les consignes, il est précisé qu'il ne doit pas y avoir d'operateur 'ou' dans la strategie. \n",
    "Alors, on va distribuer les strategies de façon à faire disparaitre les 'ou'. \n",
    "\n",
    "\n",
    "A & (B U C) : cst   \n",
    "\n",
    "devient \n",
    "\n",
    "\n",
    "A & B : cst     \n",
    "A & C : cst\n"
   ]
  },
  {
   "cell_type": "code",
   "execution_count": 6,
   "metadata": {},
   "outputs": [],
   "source": [
    "def split_operator(cond):\n",
    "    # On peut changer cette variable si il y a changement de syntaxe \n",
    "    op_or = '||or||'\n",
    "    \n",
    "    if len(cond.split(op_or))>1:\n",
    "        # On va partitionner, ce qui va nous separer notre str au niveau de la première occurence du 'ou'\n",
    "        part = cond.partition(op_or)\n",
    "        op_and = operations_inv[op_or]\n",
    "\n",
    "        # On obtient deux nouvelles conditions avec un 'ou' distibué en plus\n",
    "        left = op_and.join(part[0].split(op_and)[:-1]+[part[2]])\n",
    "        right = op_and.join([part[0]]+ part[2].split(op_and)[1:])\n",
    "        \n",
    "        # On fait encore cette operation sur les nouvelles conditions, au cas où il resterait des 'ou'\n",
    "        return [split_operator(left),split_operator(right)]\n",
    "    \n",
    "    return cond\n"
   ]
  },
  {
   "cell_type": "markdown",
   "metadata": {},
   "source": [
    "A cause de la recursivite de la fonction precedente, on obtient des resultats sous forme de liste de liste\n",
    "on va créer une petite fonction pour rendre ces resultats flat"
   ]
  },
  {
   "cell_type": "code",
   "execution_count": 7,
   "metadata": {
    "collapsed": true
   },
   "outputs": [],
   "source": [
    "def flatten(l): \n",
    "    return flatten(l[0]) + (flatten(l[1:]) if len(l) > 1 else []) if type(l) is list else [l]\n"
   ]
  },
  {
   "cell_type": "markdown",
   "metadata": {},
   "source": [
    "Il ne reste plus qu'à appliquer les fonctions precedentes aux feuilles en bout de branche. "
   ]
  },
  {
   "cell_type": "code",
   "execution_count": 8,
   "metadata": {},
   "outputs": [],
   "source": [
    "def get_result(arbre):\n",
    "    result = []\n",
    "    for noeud in arbre.nodes : \n",
    "        \n",
    "        # On ne prend que les feuilles avec des valeurs\n",
    "        if  ~np.isnan(noeud.valeur):\n",
    "            \n",
    "            cond_list = split_operator(flat_(noeud))\n",
    "            cond_list = flatten(cond_list)\n",
    "            \n",
    "            # On met en forme comme dans le feuille de consignes\n",
    "            cond_list = ['{} : {}'.format(cond,noeud.valeur) for cond in cond_list ]\n",
    "            result = result + cond_list\n",
    "            \n",
    "    return result\n",
    "      "
   ]
  },
  {
   "cell_type": "markdown",
   "metadata": {},
   "source": [
    "On n'a plus qu'à créer la fonction main qui ouvre le fichier, créé l'arbre, calcule les strategies et les ecrit dans le fichier txt. "
   ]
  },
  {
   "cell_type": "code",
   "execution_count": 76,
   "metadata": {
    "scrolled": true
   },
   "outputs": [],
   "source": [
    "def main(text_file):\n",
    "    # On ouvre le dataset\n",
    "    data = pd.read_csv(text_file, sep=\"\\n\", header=None,names = ['node'])\n",
    "    \n",
    "    #Création de l'arbre\n",
    "    arbre = tree([node(noeud) for noeud in data.node.values])\n",
    "    \n",
    "    #Calcul des strategies\n",
    "    result = get_result(arbre)\n",
    "    \n",
    "    # Ecriture des resultats\n",
    "    strat_file = 'strategies.txt'\n",
    "    #print('Ecriture des {} strategies dans {} : \\n\\n'.format(len(result),strat_file))\n",
    "\n",
    "    file = open(strat_file,'w') \n",
    "    for strategie in result : \n",
    "        file.write(strategie+'\\n')\n",
    "        #print(strategie)\n",
    "\n",
    "\n",
    "    file.close() \n",
    "    return result\n",
    "\n"
   ]
  },
  {
   "cell_type": "markdown",
   "metadata": {},
   "source": [
    "On obtient ici 20 strategies (pour 11 noeuds finaux)"
   ]
  },
  {
   "cell_type": "code",
   "execution_count": 108,
   "metadata": {},
   "outputs": [
    {
     "data": {
      "text/plain": [
       "['language=2 & browser=8 & os_family=5 & browser=7 : 0.000559453',\n",
       " 'language=2 & browser=8 & os_family=5 & device_type=pc : 0.000559453',\n",
       " 'language != 2 & browser=8 & os_family=5 & browser=7 : 0.000594593',\n",
       " 'language != 2 & browser=8 & os_family=5 & device_type=pc : 0.000594593',\n",
       " 'size=300x600 & browser != 8 & os_family=5 & browser=7 : 0.000597397',\n",
       " 'size=300x600 & browser != 8 & os_family=5 & device_type=pc : 0.000597397',\n",
       " 'size != 300x600 & browser != 8 & os_family=5 & browser=7 : 0.00063461',\n",
       " 'size != 300x600 & browser != 8 & os_family=5 & device_type=pc : 0.00063461',\n",
       " 'browser=5 & os_family != 5 & browser=7 : 0.000625534',\n",
       " 'browser=5 & os_family != 5 & device_type=pc : 0.000625534',\n",
       " 'browser=8 & os_family != 5 & browser=7 : 0.000625534',\n",
       " 'browser=8 & os_family != 5 & device_type=pc : 0.000625534',\n",
       " 'position=2 & browser != 8 & browser != 5 & os_family != 5 & browser=7 : 0.00066727',\n",
       " 'position=2 & browser != 8 & browser != 5 & os_family != 5 & device_type=pc : 0.00066727',\n",
       " 'position != 2 & browser != 8 & browser != 5 & os_family != 5 & browser=7 : 0.000708484',\n",
       " 'position != 2 & browser != 8 & browser != 5 & os_family != 5 & device_type=pc : 0.000708484',\n",
       " 'browser=8 & device_type != pc & browser != 7 : 0.000881108',\n",
       " 'os_family=5 & browser != 8 & device_type != pc & browser != 7 : 0.000842268',\n",
       " 'region=FR:A5 & os_family != 5 & browser != 8 & device_type != pc & browser != 7 : 0.000939982',\n",
       " 'region != FR:A5 & os_family != 5 & browser != 8 & device_type != pc & browser != 7 : 0.000999001']"
      ]
     },
     "execution_count": 108,
     "metadata": {},
     "output_type": "execute_result"
    }
   ],
   "source": [
    "main('tree_to_convert.txt')\n"
   ]
  },
  {
   "cell_type": "code",
   "execution_count": 106,
   "metadata": {},
   "outputs": [],
   "source": [
    "import random\n",
    "import unittest\n",
    "\n",
    "class treeTest(unittest.TestCase):\n",
    "    \n",
    "    def test_len(self):\n",
    "        result_test = main('tree_to_convert.txt')\n",
    "        self.assertEqual(len(result_test),20)\n",
    "        \n",
    "    def test_or(self):\n",
    "        result_test = main('tree_to_convert.txt')\n",
    "        self.assertNotIn('||or||', result_test)\n",
    "    \n",
    "    def test_len_big_depth(self):\n",
    "        \n",
    "        result_test= main('Test/tree_big_depth.txt')\n",
    "        self.assertEqual(len(result_test),24)\n",
    "        \n",
    "    def test_or_big_depth(self):\n",
    "        result_test= main('Test/tree_big_depth.txt')\n",
    "        self.assertNotIn('||or||', result_test)\n",
    "    \n",
    "    def test_len_small_depth(self):\n",
    "        \n",
    "        result_test= main('Test/tree_small_depth.txt')\n",
    "        self.assertEqual(len(result_test),6)\n",
    "        \n",
    "    def test_or_small_depth(self):\n",
    "        result_test= main('Test/tree_small_depth.txt')\n",
    "        self.assertNotIn('||or||', result_test)\n",
    "        \n",
    "    def test_len_variable_change(self):\n",
    "        \n",
    "        result_test= main('Test/tree_variable_change.txt')\n",
    "        self.assertEqual(len(result_test),20)\n",
    "        \n",
    "    def test_or_variable_change(self):\n",
    "        result_test= main('Test/tree_variable_change.txt')\n",
    "        self.assertNotIn('||or||', result_test)\n",
    "      \n",
    "    # Test pour plus de conditions ||or|| ce qui a pour effet une explosion du nombre de strategies. \n",
    "    def test_len_variable_change(self):\n",
    "        \n",
    "        result_test= main('Test/tree_lot_OR.txt')\n",
    "        self.assertEqual(len(result_test),64)\n",
    "    \n",
    "    # Controle qu'il ne reste plus d''||or||\n",
    "    def test_or_variable_change(self):\n",
    "        result_test= main('Test/tree_lot_OR.txt')\n",
    "        self.assertNotIn('||or||', result_test)\n"
   ]
  },
  {
   "cell_type": "code",
   "execution_count": 107,
   "metadata": {},
   "outputs": [
    {
     "name": "stderr",
     "output_type": "stream",
     "text": [
      "........\n",
      "----------------------------------------------------------------------\n",
      "Ran 8 tests in 0.056s\n",
      "\n",
      "OK\n"
     ]
    }
   ],
   "source": [
    "if __name__ == '__main__':\n",
    "    unittest.main(argv=['first-arg-is-ignored'], exit=False)"
   ]
  }
 ],
 "metadata": {
  "kernelspec": {
   "display_name": "Python 3",
   "language": "python",
   "name": "python3"
  },
  "language_info": {
   "codemirror_mode": {
    "name": "ipython",
    "version": 3
   },
   "file_extension": ".py",
   "mimetype": "text/x-python",
   "name": "python",
   "nbconvert_exporter": "python",
   "pygments_lexer": "ipython3",
   "version": "3.6.2"
  }
 },
 "nbformat": 4,
 "nbformat_minor": 2
}
